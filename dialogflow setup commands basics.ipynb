{
 "cells": [
  {
   "cell_type": "code",
   "execution_count": 1,
   "id": "similar-manual",
   "metadata": {},
   "outputs": [],
   "source": [
    "import os"
   ]
  },
  {
   "cell_type": "code",
   "execution_count": 2,
   "id": "coordinated-dutch",
   "metadata": {},
   "outputs": [],
   "source": [
    "os.environ[\"GOOGLE_APPLICATION_CREDENTIALS\"] = \"clientaccess.json\""
   ]
  },
  {
   "cell_type": "code",
   "execution_count": 3,
   "id": "portable-sound",
   "metadata": {},
   "outputs": [],
   "source": [
    "import dialogflow_v2 as dialogflow"
   ]
  },
  {
   "cell_type": "code",
   "execution_count": 4,
   "id": "minor-shopping",
   "metadata": {},
   "outputs": [],
   "source": [
    "dialogflow_session_client = dialogflow.SessionsClient()"
   ]
  },
  {
   "cell_type": "code",
   "execution_count": 5,
   "id": "competent-bishop",
   "metadata": {},
   "outputs": [],
   "source": [
    "PROJECT_ID = \"newsbot-pvfm\""
   ]
  },
  {
   "cell_type": "code",
   "execution_count": 6,
   "id": "ultimate-judge",
   "metadata": {},
   "outputs": [],
   "source": [
    "def detect_intent_from_text(text, session_id, language_code='en'):\n",
    "    session = dialogflow_session_client.session_path(PROJECT_ID, session_id)\n",
    "    text_input = dialogflow.types.TextInput(text=text, language_code=language_code)\n",
    "    query_input = dialogflow.types.QueryInput(text=text_input)\n",
    "    response = dialogflow_session_client.detect_intent(session=session, query_input=query_input)\n",
    "    return response.query_result"
   ]
  },
  {
   "cell_type": "code",
   "execution_count": 7,
   "id": "academic-dakota",
   "metadata": {},
   "outputs": [],
   "source": [
    "response = detect_intent_from_text(\"whos your boss\", 12345)\n"
   ]
  },
  {
   "cell_type": "code",
   "execution_count": 8,
   "id": "musical-brief",
   "metadata": {},
   "outputs": [
    {
     "name": "stdout",
     "output_type": "stream",
     "text": [
      "You master, You\n"
     ]
    }
   ],
   "source": [
    "print(response.fulfillment_text)"
   ]
  },
  {
   "cell_type": "code",
   "execution_count": 11,
   "id": "destroyed-invalid",
   "metadata": {},
   "outputs": [],
   "source": [
    "from gnewsclient import gnewsclient"
   ]
  },
  {
   "cell_type": "code",
   "execution_count": 14,
   "id": "selected-starter",
   "metadata": {},
   "outputs": [],
   "source": [
    "client = gnewsclient.NewsClient()"
   ]
  },
  {
   "cell_type": "code",
   "execution_count": null,
   "id": "regional-wholesale",
   "metadata": {},
   "outputs": [],
   "source": []
  },
  {
   "cell_type": "code",
   "execution_count": 15,
   "id": "external-payment",
   "metadata": {},
   "outputs": [
    {
     "data": {
      "text/plain": [
       "{'location': 'United States', 'language': 'english', 'topic': 'Top Stories'}"
      ]
     },
     "execution_count": 15,
     "metadata": {},
     "output_type": "execute_result"
    }
   ],
   "source": [
    "client.get_config()"
   ]
  },
  {
   "cell_type": "code",
   "execution_count": 22,
   "id": "southeast-event",
   "metadata": {},
   "outputs": [],
   "source": [
    "client.language = 'english'\n",
    "client.location = 'india'"
   ]
  },
  {
   "cell_type": "code",
   "execution_count": 24,
   "id": "coated-herald",
   "metadata": {},
   "outputs": [],
   "source": [
    "news = client.get_news()"
   ]
  },
  {
   "cell_type": "code",
   "execution_count": 28,
   "id": "stock-joyce",
   "metadata": {},
   "outputs": [
    {
     "name": "stdout",
     "output_type": "stream",
     "text": [
      "<class 'list'>\n"
     ]
    }
   ],
   "source": [
    "print(type(news))"
   ]
  },
  {
   "cell_type": "code",
   "execution_count": 35,
   "id": "distinguished-match",
   "metadata": {},
   "outputs": [
    {
     "name": "stdout",
     "output_type": "stream",
     "text": [
      "Puducherry LG asks CM Narayansamy to prove majority on Feb 22 - Times of India\n",
      "https://news.google.com/__i/rss/rd/articles/CBMiowFodHRwczovL3RpbWVzb2ZpbmRpYS5pbmRpYXRpbWVzLmNvbS9jaXR5L3B1ZHVjaGVycnkvdGFtaWxpc2FpLXNvdW5kYXJhcmFqYW4tZGlyZWN0cy1wdWR1Y2hlcnJ5LWNtLW5hcmF5YW5hc2FteS10by1wcm92ZS1tYWpvcml0eS1vbi1mZWItMjIvYXJ0aWNsZXNob3cvODEwOTIyOTkuY21z0gGeAWh0dHBzOi8vbS50aW1lc29maW5kaWEuY29tL2NpdHkvcHVkdWNoZXJyeS90YW1pbGlzYWktc291bmRhcmFyYWphbi1kaXJlY3RzLXB1ZHVjaGVycnktY20tbmFyYXlhbmFzYW15LXRvLXByb3ZlLW1ham9yaXR5LW9uLWZlYi0yMi9hbXBfYXJ0aWNsZXNob3cvODEwOTIyOTkuY21z?oc=5\n",
      "Rail roko protest | Railways ascertains negligble impact on train services - The Hindu\n",
      "https://news.google.com/__i/rss/rd/articles/CBMigAFodHRwczovL3d3dy50aGVoaW5kdS5jb20vbmV3cy9uYXRpb25hbC9yYWlsLXJva28tcHJvdGVzdC1mYXJtZXJzLWFzc2VtYmxlLW5lYXItcmFpbC10cmFja3MtaW4tcHVuamFiLWhhcnlhbmEvYXJ0aWNsZTMzODY4OTg5LmVjZdIBhQFodHRwczovL3d3dy50aGVoaW5kdS5jb20vbmV3cy9uYXRpb25hbC9yYWlsLXJva28tcHJvdGVzdC1mYXJtZXJzLWFzc2VtYmxlLW5lYXItcmFpbC10cmFja3MtaW4tcHVuamFiLWhhcnlhbmEvYXJ0aWNsZTMzODY4OTg5LmVjZS9hbXAv?oc=5\n",
      "Covid cases rising, Maharashtra to impose weekend lockdown in Amravati - The Indian Express\n",
      "https://news.google.com/__i/rss/rd/articles/CBMic2h0dHBzOi8vaW5kaWFuZXhwcmVzcy5jb20vYXJ0aWNsZS9pbmRpYS9jb3JvbmF2aXJ1cy1sb2NrZG93bi1pbi1hbXJhdmF0aS1mcm9tLXNhdHVyZGF5LTgtcG0tdG8tbW9uZGF5LTctYW0tNzE5NDQwNC_SAXhodHRwczovL2luZGlhbmV4cHJlc3MuY29tL2FydGljbGUvaW5kaWEvY29yb25hdmlydXMtbG9ja2Rvd24taW4tYW1yYXZhdGktZnJvbS1zYXR1cmRheS04LXBtLXRvLW1vbmRheS03LWFtLTcxOTQ0MDQvbGl0ZS8?oc=5\n",
      "5 things to know about the ‘out of control’ fuel price rise in India - Moneycontrol.com\n",
      "https://news.google.com/__i/rss/rd/articles/CBMiggFodHRwczovL3d3dy5tb25leWNvbnRyb2wuY29tL25ld3MvYnVzaW5lc3MvZWNvbm9teS81LXRoaW5ncy10by1rbm93LWFib3V0LXRoZS1vdXQtb2YtY29udHJvbC1mdWVsLXByaWNlLXJpc2UtaW4taW5kaWEtNjUzODIxMS5odG1s0gGGAWh0dHBzOi8vd3d3Lm1vbmV5Y29udHJvbC5jb20vbmV3cy9idXNpbmVzcy9lY29ub215LzUtdGhpbmdzLXRvLWtub3ctYWJvdXQtdGhlLW91dC1vZi1jb250cm9sLWZ1ZWwtcHJpY2UtcmlzZS1pbi1pbmRpYS02NTM4MjExLmh0bWwvYW1w?oc=5\n",
      "'Not Sir But You Can Call Me...' Rahul Gandhi's Comment Draws Loud Cheers - NDTV\n",
      "https://news.google.com/__i/rss/rd/articles/CBMidWh0dHBzOi8vd3d3Lm5kdHYuY29tL2luZGlhLW5ld3MvbXktbmFtZS1pcy1ub3Qtc2lyLXJhaHVsLWdhbmRoaS1xdWlwcy1sb3VkLWNoZWVycy1mcm9tLXN0dWRlbnRzLWluLXB1ZHVjaGVycnktMjM3MzIwNtIBigFodHRwczovL3d3dy5uZHR2LmNvbS9pbmRpYS1uZXdzL215LW5hbWUtaXMtbm90LXNpci1yYWh1bC1nYW5kaGktcXVpcHMtbG91ZC1jaGVlcnMtZnJvbS1zdHVkZW50cy1pbi1wdWR1Y2hlcnJ5LTIzNzMyMDY_YW1wPTEmYWthbWFpLXJ1bT1vZmY?oc=5\n",
      "UP Police Files Murder FIR After Death of Two Dalit Girls in Unnao - The Quint\n",
      "https://news.google.com/__i/rss/rd/articles/CBMiY2h0dHBzOi8vd3d3LnRoZXF1aW50LmNvbS9uZXdzL2luZGlhLzItbWlub3ItZGFsaXQtZ2lybHMtZm91bmQtZGVhZC1pbi1hLWZpZWxkLWluLXVubmFvLTNyZC1jcml0aWNhbNIBbWh0dHBzOi8vd3d3LnRoZXF1aW50LmNvbS9hbXAvc3RvcnkvbmV3cy9pbmRpYS8yLW1pbm9yLWRhbGl0LWdpcmxzLWZvdW5kLWRlYWQtaW4tYS1maWVsZC1pbi11bm5hby0zcmQtY3JpdGljYWw?oc=5\n",
      "Mohali MC Election Result: Congress wins 37 of the 50 wards; Independents bag remaining 13 - Times Now\n",
      "https://news.google.com/__i/rss/rd/articles/CBMiZWh0dHBzOi8vd3d3LnRpbWVzbm93bmV3cy5jb20vaW5kaWEvYXJ0aWNsZS9tb2hhbGktbWMtZWxlY3Rpb24tcmVzdWx0LXB1bmphYi1tdW5pY2lwYWwtZWxlY3Rpb24vNzIxODY10gFpaHR0cHM6Ly93d3cudGltZXNub3duZXdzLmNvbS9hbXAvaW5kaWEvYXJ0aWNsZS9tb2hhbGktbWMtZWxlY3Rpb24tcmVzdWx0LXB1bmphYi1tdW5pY2lwYWwtZWxlY3Rpb24vNzIxODY1?oc=5\n",
      "'India, China cannot have normal bilateral relationship if...': Harsh Shringla amid disengagement process - Times Now\n",
      "https://news.google.com/__i/rss/rd/articles/CBMigQFodHRwczovL3d3dy50aW1lc25vd25ld3MuY29tL2luZGlhL2FydGljbGUvaW5kaWEtY2hpbmEtY2Fubm90LWhhdmUtbm9ybWFsLWJpbGF0ZXJhbC1yZWxhdGlvbnNoaXAtaWYtaGFyc2gtdmFyZGhhbi1zaHJpbmdsYS83MjE2ODjSAYUBaHR0cHM6Ly93d3cudGltZXNub3duZXdzLmNvbS9hbXAvaW5kaWEvYXJ0aWNsZS9pbmRpYS1jaGluYS1jYW5ub3QtaGF2ZS1ub3JtYWwtYmlsYXRlcmFsLXJlbGF0aW9uc2hpcC1pZi1oYXJzaC12YXJkaGFuLXNocmluZ2xhLzcyMTY4OA?oc=5\n",
      "Metroman E Sreedharan to join BJP, says party’s Kerala unit chief - The Indian Express\n",
      "https://news.google.com/__i/rss/rd/articles/CBMiWmh0dHBzOi8vaW5kaWFuZXhwcmVzcy5jb20vYXJ0aWNsZS9pbmRpYS9tZXRyby1tYW4tZS1zcmVlZGhhcmFuLXRvLWpvaW4tYmpwLWtlcmFsYS03MTkzODUyL9IBX2h0dHBzOi8vaW5kaWFuZXhwcmVzcy5jb20vYXJ0aWNsZS9pbmRpYS9tZXRyby1tYW4tZS1zcmVlZGhhcmFuLXRvLWpvaW4tYmpwLWtlcmFsYS03MTkzODUyL2xpdGUv?oc=5\n",
      "India's first centralised AC railway terminal at Bengaluru looks stunning. See photos - Mint\n",
      "https://news.google.com/__i/rss/rd/articles/CBMiiwFodHRwczovL3d3dy5saXZlbWludC5jb20vbmV3cy9pbmRpYS9pbmRpYXMtZmlyc3QtY2VudHJhbGlzZWQtYWMtcmFpbHdheS10ZXJtaW5hbC1hdC1iZW5nYWx1cnUtbG9va3Mtc3R1bm5pbmctc2VlLXBob3Rvcy0xMTYxMzY0NDYxNzQ3OC5odG1s0gGPAWh0dHBzOi8vd3d3LmxpdmVtaW50LmNvbS9uZXdzL2luZGlhL2luZGlhcy1maXJzdC1jZW50cmFsaXNlZC1hYy1yYWlsd2F5LXRlcm1pbmFsLWF0LWJlbmdhbHVydS1sb29rcy1zdHVubmluZy1zZWUtcGhvdG9zL2FtcC0xMTYxMzY0NDYxNzQ3OC5odG1s?oc=5\n"
     ]
    }
   ],
   "source": [
    "for new in news:\n",
    "    print(new['title'])\n",
    "    print(new['link'])"
   ]
  },
  {
   "cell_type": "code",
   "execution_count": null,
   "id": "focused-tribute",
   "metadata": {},
   "outputs": [],
   "source": []
  }
 ],
 "metadata": {
  "kernelspec": {
   "display_name": "Python 3",
   "language": "python",
   "name": "python3"
  },
  "language_info": {
   "codemirror_mode": {
    "name": "ipython",
    "version": 3
   },
   "file_extension": ".py",
   "mimetype": "text/x-python",
   "name": "python",
   "nbconvert_exporter": "python",
   "pygments_lexer": "ipython3",
   "version": "3.9.1"
  }
 },
 "nbformat": 4,
 "nbformat_minor": 5
}
